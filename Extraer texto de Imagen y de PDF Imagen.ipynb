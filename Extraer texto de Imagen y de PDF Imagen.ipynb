{
 "cells": [
  {
   "cell_type": "markdown",
   "metadata": {},
   "source": [
    "# Extraer texto de una imágen"
   ]
  },
  {
   "cell_type": "code",
   "execution_count": 1,
   "metadata": {},
   "outputs": [],
   "source": [
    "import pytesseract\n",
    "from pytesseract import image_to_string\n",
    "import sys\n",
    "from pdf2image import convert_from_path\n",
    "import os\n",
    "from PIL import Image"
   ]
  },
  {
   "cell_type": "code",
   "execution_count": 2,
   "metadata": {},
   "outputs": [
    {
     "name": "stdout",
     "output_type": "stream",
     "text": [
      "C:\\Users\\lpena\n"
     ]
    }
   ],
   "source": [
    "# filename = Image.open(\"ImagenUno.jpg\")\n",
    "print(os.getcwd())"
   ]
  },
  {
   "cell_type": "code",
   "execution_count": 3,
   "metadata": {},
   "outputs": [],
   "source": [
    "pytesseract.pytesseract.tesseract_cmd = 'C:/Program Files/Tesseract-OCR/tesseract.exe'"
   ]
  },
  {
   "cell_type": "code",
   "execution_count": 4,
   "metadata": {},
   "outputs": [
    {
     "name": "stdout",
     "output_type": "stream",
     "text": [
      "Terminado\n"
     ]
    }
   ],
   "source": [
    "outfile = \"prueba.txt\"\n",
    "f = open(outfile,\"a\")\n",
    "text = str(((pytesseract.image_to_string(Image.open(\"ImagenUno.jpg\")))))\n",
    "text = text.replace('-\\n', '')\n",
    "f.write(text)\n",
    "f.close()\n",
    "print(\"Terminado\")"
   ]
  },
  {
   "cell_type": "markdown",
   "metadata": {},
   "source": [
    "# Extraer texto de un PDF Imagen"
   ]
  },
  {
   "cell_type": "code",
   "execution_count": 5,
   "metadata": {},
   "outputs": [
    {
     "name": "stdout",
     "output_type": "stream",
     "text": [
      "C:\\Users\\lpena\n"
     ]
    }
   ],
   "source": [
    "print(os.getcwd())"
   ]
  },
  {
   "cell_type": "code",
   "execution_count": 7,
   "metadata": {},
   "outputs": [
    {
     "name": "stdout",
     "output_type": "stream",
     "text": [
      "Terminado\n"
     ]
    }
   ],
   "source": [
    "PDF_file = \"PonenciaUno.pdf\"\n",
    "pages = convert_from_path(PDF_file,500)\n",
    "contador = 1\n",
    "for page in pages:\n",
    "    filename=\"page_\"+str(contador)+\".jpg\"\n",
    "    page.save(filename, \"JPEG\")\n",
    "    contador=contador+1\n",
    "\n",
    "filelimit=contador-1\n",
    "outfile=\"PonenciaUno.txt\"\n",
    "f = open(outfile,\"a\")\n",
    "for i in range(1,filelimit+1):\n",
    "    filename=\"page_\"+str(i)+\".jpg\"\n",
    "    text = str(((pytesseract.image_to_string(Image.open(filename)))))\n",
    "    text = text.replace('-\\n', '')\n",
    "    f.write(text)\n",
    "f.close()\n",
    "print(\"Terminado\")"
   ]
  },
  {
   "cell_type": "code",
   "execution_count": null,
   "metadata": {},
   "outputs": [],
   "source": []
  }
 ],
 "metadata": {
  "kernelspec": {
   "display_name": "Python 3",
   "language": "python",
   "name": "python3"
  },
  "language_info": {
   "codemirror_mode": {
    "name": "ipython",
    "version": 3
   },
   "file_extension": ".py",
   "mimetype": "text/x-python",
   "name": "python",
   "nbconvert_exporter": "python",
   "pygments_lexer": "ipython3",
   "version": "3.8.5"
  }
 },
 "nbformat": 4,
 "nbformat_minor": 4
}
