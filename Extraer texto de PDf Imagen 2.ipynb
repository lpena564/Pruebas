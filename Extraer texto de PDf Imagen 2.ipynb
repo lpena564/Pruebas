{
 "cells": [
  {
   "cell_type": "code",
   "execution_count": 6,
   "metadata": {},
   "outputs": [],
   "source": [
    "from pdf2image import convert_from_path\n",
    "import pytesseract\n",
    "from pytesseract import image_to_string\n",
    "from PIL import Image"
   ]
  },
  {
   "cell_type": "code",
   "execution_count": 7,
   "metadata": {},
   "outputs": [],
   "source": [
    "def convert_pdf_to_img(pdf_file):\n",
    "    return convert_from_path(pdf_file)\n",
    "\n",
    "def convert_image_to_text(file):\n",
    "    text = image_to_string(file)\n",
    "    return text\n",
    "\n",
    "def get_text_from_any_pdf(pdf_file):\n",
    "    images = convert_pdf_to_img(pdf_file)\n",
    "    final_text = \"\"\n",
    "    for pg, img in enumerate(images):\n",
    "        final_text += convert_image_to_text(img)\n",
    "        print(\"Pagina {}\".format(pg))\n",
    "        # print(convert_image_to_text(img))\n",
    "    return final_text\n",
    "    "
   ]
  },
  {
   "cell_type": "code",
   "execution_count": 8,
   "metadata": {},
   "outputs": [],
   "source": [
    "path_to_pdf = \"PonenciaUno.pdf\""
   ]
  },
  {
   "cell_type": "code",
   "execution_count": 9,
   "metadata": {},
   "outputs": [],
   "source": [
    "pytesseract.pytesseract.tesseract_cmd = 'C:/Program Files/Tesseract-OCR/tesseract.exe'"
   ]
  },
  {
   "cell_type": "code",
   "execution_count": 11,
   "metadata": {
    "scrolled": true
   },
   "outputs": [
    {
     "name": "stdout",
     "output_type": "stream",
     "text": [
      "Pagina 0\n",
      "Pagina 1\n",
      "R \\CA DE;\n",
      "syBlCA DEY >\n",
      "g Se\n",
      "\n",
      "iC @ Py\n",
      "\n",
      "  \n",
      "   \n",
      "  \n",
      " \n",
      "    \n",
      "   \n",
      "  \n",
      "\n",
      "ae\n",
      "\n",
      "LAMBAYEQUE\n",
      "ERNESTO MENDOZA PADILLA\n",
      "\n",
      "-HD/TC\n",
      "\n",
      "AUTO DEL TRIBUNAL CONSTITUCIONAL\n",
      "Lima, 7 de enero de 2020\n",
      "VISTO\n",
      "\n",
      "El recurso de agravio constitucional interpuesto por don Ernesto Mendoza Padilla\n",
      "contra la resolucién de fojas 37, de fecha 8 de febrero de 2019, expedida por la Sala\n",
      "Mixta Vacacional de la Corte Superior de Justicia de Lambayeque, que declaré\n",
      "improcedente la demanda de autos; y\n",
      "\n",
      "ATENDIENDO A QUE\n",
      "Demanda\n",
      "\n",
      "a 30 de julio de 2018, don Ernesto Mendoza Padilla interpuso demanda de\n",
      "gas data contra el Primer Juzgado Especializado Civil de Pacasmayo de la Corte\n",
      "Stiperior de Justicia de La Libertad y otro. Solicité copia del cargo de recepcién\n",
      "Mediante el cual la emplazada remitio a la Sala Superior de su corte el Expediente\n",
      "564-2007. :\n",
      "\n",
      "Auto de primera instancia 0 grado\n",
      "\n",
      "2. El Tercer Juzgado Especializado en lo Civil de Chiclayo de la Corte Superior de\n",
      "Justicia de Lambayeque declaré improcedente la demanda, ya que, a su juicio, lo\n",
      "solicitado por el recurrente no se encontraba dentro del Ambito de proteccion del\n",
      "proceso de habeas data.\n",
      "\n",
      "Auto de segunda instancia 0 grado\n",
      "\n",
      "3. La Sala Mixta Vacacional de la Corte Superior de Justicia de Lambayeque confirmé\n",
      "la apelada con el argumento de que para tutelar el derecho del recurrente existen\n",
      "vias igualmente satisfactorias, porque pudo presentar un escrito al juzgado para\n",
      "solicitar la referida informacién o acceder al expediente y tomarle una foto.\n",
      "\n",
      "Analisis de procedencia de la demanda\n",
      "\n",
      "4. Contrariamente a lo sefialado por los jueces que conocieron la presente demanda,\n",
      "esta Sala del Tribunal Constitucional estima que se ha cometido un error de\n",
      "apreciacion, debido a que los motivos expuestos por las instancias judiciales no se\n",
      "refieren a alguno de los supuestos de excepcion al ejercicio del derecho de acceso a\n",
      "la informacion publica previstos en el articulo 15 de la Ley de Transparencia y\n",
      "Acceso a la Informacién Publica. ;\n",
      "\f",
      "agliCA DE;\n",
      "yout Lp,\n",
      "g %\n",
      "& Res\n",
      "\n",
      " \n",
      "\n",
      "TRIBUNAL CONSTITUCIONAL\n",
      "\n",
      " \n",
      "\n",
      "rr\n",
      "\n",
      "EXP. N.° 01705-2019-HD/TC\n",
      "LAMBA YEQUE\n",
      "\n",
      "ERNESTO MENDOZA PADILLA\n",
      "\n",
      "5. Cabe agregar, ademas, que el Tribunal Constitucional ha manifestado en reiteradas\n",
      "ocasiones que las limitaciones al ejercicio del derecho de acceso a la informacion\n",
      "publica deben ser interpretadas de manera restrictiva y debidamente fundamentada.\n",
      "Por tal motivo, esta Sala del Tribunal estima que la demanda debe admitirse a\n",
      "tramite, a fin de que la entidad emplazada pueda aportar al esclarecimiento de los\n",
      "hechos que se discuten en el presente caso.\n",
      "\n",
      " \n",
      "\n",
      " \n",
      "\n",
      " \n",
      "\n",
      "6. En virtud de lo expresado, y teniendo en cuenta que las resoluciones impugnadas en\n",
      "el presente proceso han sido expedidas incurriendo en un vicio  procesal\n",
      "insubsanable que afecta trascendentalmente la decisién de primera y segunda\n",
      "instancia o grado, resulta de aplicacién al caso el segundo pdarrafo del articulo 20 del\n",
      "Codigo Procesal Constitucional, el cual a la letra dice:\n",
      "\n",
      " \n",
      "\n",
      "Si el Tribunal considera que la resolucién impugnada ha sido expedida\n",
      "incurriéndose en un vicio del proceso que ha afectado el sentido de la decision, la\n",
      "anulara y ordenara se reponga el tramite al estado inmediato anterior a la\n",
      "ocurrencia del vicio [...].\n",
      "\n",
      "En consecuencia, este Tribunal considera que ambas resoluciones deben anularse a\n",
      "fin de que se admita a tramite la demanda.\n",
      "\n",
      "Por estas consideraciones, el Tribunal Constitucional, con la autoridad que le\n",
      "confiere la Constitucién Politica del Pert,\n",
      "RESUELVE\n",
      "1. Declarar NULA la resolucion recurrida de fecha 8 de febrero de 2019 y NULA la\n",
      "resolucién de fecha | de agosto de 2018,:expedida por el Tercer Juzgado\n",
      "\n",
      "Especializado en lo Civil Chiclayo de la Corte Superior de Justicia de Lambayeque.\n",
      "\n",
      "2. DISPONER que se admita a tramite la demanda de habeas data.\n",
      "\n",
      "   \n",
      "\n",
      "Publiquese y notifiquese.\n",
      "SS.\n",
      "MIRANDA CANALES\n",
      "\n",
      "RAMOS NUNEZ\n",
      "ESPINOSA-SALDANA BARRERA\n",
      "\n",
      " \n",
      "\n",
      "| PONENTE RAMOS NUNE\n",
      "\f",
      "\n"
     ]
    }
   ],
   "source": [
    "texto=get_text_from_any_pdf(path_to_pdf)\n",
    "print(texto)"
   ]
  },
  {
   "cell_type": "code",
   "execution_count": 12,
   "metadata": {},
   "outputs": [
    {
     "name": "stdout",
     "output_type": "stream",
     "text": [
      "Terminado\n"
     ]
    }
   ],
   "source": [
    "outfile = \"PonenciaUno1.txt\"\n",
    "f = open(outfile,\"a\")\n",
    "f.write(texto)\n",
    "f.close()\n",
    "print(\"Terminado\")"
   ]
  },
  {
   "cell_type": "code",
   "execution_count": 13,
   "metadata": {},
   "outputs": [
    {
     "data": {
      "text/plain": [
       "'R \\\\CA DE;\\nsyBlCA DEY >\\ng Se\\n\\niC @ Py\\n\\n  \\n   \\n  \\n \\n    \\n   \\n  \\n\\nae\\n\\nLAMBAYEQUE\\nERNESTO MENDOZA PADILLA\\n\\n-HD/TC\\n\\nAUTO DEL TRIBUNAL CONSTITUCIONAL\\nLima, 7 de enero de 2020\\nVISTO\\n\\nEl recurso de agravio constitucional interpuesto por don Ernesto Mendoza Padilla\\ncontra la resolucién de fojas 37, de fecha 8 de febrero de 2019, expedida por la Sala\\nMixta Vacacional de la Corte Superior de Justicia de Lambayeque, que declaré\\nimprocedente la demanda de autos; y\\n\\nATENDIENDO A QUE\\nDemanda\\n\\na 30 de julio de 2018, don Ernesto Mendoza Padilla interpuso demanda de\\ngas data contra el Primer Juzgado Especializado Civil de Pacasmayo de la Corte\\nStiperior de Justicia de La Libertad y otro. Solicité copia del cargo de recepcién\\nMediante el cual la emplazada remitio a la Sala Superior de su corte el Expediente\\n564-2007. :\\n\\nAuto de primera instancia 0 grado\\n\\n2. El Tercer Juzgado Especializado en lo Civil de Chiclayo de la Corte Superior de\\nJusticia de Lambayeque declaré improcedente la demanda, ya que, a su juicio, lo\\nsolicitado por el recurrente no se encontraba dentro del Ambito de proteccion del\\nproceso de habeas data.\\n\\nAuto de segunda instancia 0 grado\\n\\n3. La Sala Mixta Vacacional de la Corte Superior de Justicia de Lambayeque confirmé\\nla apelada con el argumento de que para tutelar el derecho del recurrente existen\\nvias igualmente satisfactorias, porque pudo presentar un escrito al juzgado para\\nsolicitar la referida informacién o acceder al expediente y tomarle una foto.\\n\\nAnalisis de procedencia de la demanda\\n\\n4. Contrariamente a lo sefialado por los jueces que conocieron la presente demanda,\\nesta Sala del Tribunal Constitucional estima que se ha cometido un error de\\napreciacion, debido a que los motivos expuestos por las instancias judiciales no se\\nrefieren a alguno de los supuestos de excepcion al ejercicio del derecho de acceso a\\nla informacion publica previstos en el articulo 15 de la Ley de Transparencia y\\nAcceso a la Informacién Publica. ;\\n\\x0cagliCA DE;\\nyout Lp,\\ng %\\n& Res\\n\\n \\n\\nTRIBUNAL CONSTITUCIONAL\\n\\n \\n\\nrr\\n\\nEXP. N.° 01705-2019-HD/TC\\nLAMBA YEQUE\\n\\nERNESTO MENDOZA PADILLA\\n\\n5. Cabe agregar, ademas, que el Tribunal Constitucional ha manifestado en reiteradas\\nocasiones que las limitaciones al ejercicio del derecho de acceso a la informacion\\npublica deben ser interpretadas de manera restrictiva y debidamente fundamentada.\\nPor tal motivo, esta Sala del Tribunal estima que la demanda debe admitirse a\\ntramite, a fin de que la entidad emplazada pueda aportar al esclarecimiento de los\\nhechos que se discuten en el presente caso.\\n\\n \\n\\n \\n\\n \\n\\n6. En virtud de lo expresado, y teniendo en cuenta que las resoluciones impugnadas en\\nel presente proceso han sido expedidas incurriendo en un vicio  procesal\\ninsubsanable que afecta trascendentalmente la decisién de primera y segunda\\ninstancia o grado, resulta de aplicacién al caso el segundo pdarrafo del articulo 20 del\\nCodigo Procesal Constitucional, el cual a la letra dice:\\n\\n \\n\\nSi el Tribunal considera que la resolucién impugnada ha sido expedida\\nincurriéndose en un vicio del proceso que ha afectado el sentido de la decision, la\\nanulara y ordenara se reponga el tramite al estado inmediato anterior a la\\nocurrencia del vicio [...].\\n\\nEn consecuencia, este Tribunal considera que ambas resoluciones deben anularse a\\nfin de que se admita a tramite la demanda.\\n\\nPor estas consideraciones, el Tribunal Constitucional, con la autoridad que le\\nconfiere la Constitucién Politica del Pert,\\nRESUELVE\\n1. Declarar NULA la resolucion recurrida de fecha 8 de febrero de 2019 y NULA la\\nresolucién de fecha | de agosto de 2018,:expedida por el Tercer Juzgado\\n\\nEspecializado en lo Civil Chiclayo de la Corte Superior de Justicia de Lambayeque.\\n\\n2. DISPONER que se admita a tramite la demanda de habeas data.\\n\\n   \\n\\nPubliquese y notifiquese.\\nSS.\\nMIRANDA CANALES\\n\\nRAMOS NUNEZ\\nESPINOSA-SALDANA BARRERA\\n\\n \\n\\n| PONENTE RAMOS NUNE\\n\\x0c'"
      ]
     },
     "execution_count": 13,
     "metadata": {},
     "output_type": "execute_result"
    }
   ],
   "source": [
    "texto"
   ]
  },
  {
   "cell_type": "code",
   "execution_count": null,
   "metadata": {},
   "outputs": [],
   "source": []
  }
 ],
 "metadata": {
  "kernelspec": {
   "display_name": "Python 3",
   "language": "python",
   "name": "python3"
  },
  "language_info": {
   "codemirror_mode": {
    "name": "ipython",
    "version": 3
   },
   "file_extension": ".py",
   "mimetype": "text/x-python",
   "name": "python",
   "nbconvert_exporter": "python",
   "pygments_lexer": "ipython3",
   "version": "3.8.5"
  }
 },
 "nbformat": 4,
 "nbformat_minor": 4
}
